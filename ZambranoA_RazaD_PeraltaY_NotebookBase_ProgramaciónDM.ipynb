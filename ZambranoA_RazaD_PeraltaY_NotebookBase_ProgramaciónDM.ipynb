{
  "cells": [
    {
      "cell_type": "markdown",
      "metadata": {
        "id": "view-in-github",
        "colab_type": "text"
      },
      "source": [
        "<a href=\"https://colab.research.google.com/github/YomarPeralta/Jupyter-Lab/blob/main/ZambranoA_RazaD_PeraltaY_NotebookBase_Programaci%C3%B3nDM.ipynb\" target=\"_parent\"><img src=\"https://colab.research.google.com/assets/colab-badge.svg\" alt=\"Open In Colab\"/></a>"
      ]
    },
    {
      "cell_type": "markdown",
      "id": "8b6f603c",
      "metadata": {
        "id": "8b6f603c"
      },
      "source": [
        "<center><h1>Mineria de Datos</header1></center>"
      ]
    },
    {
      "cell_type": "markdown",
      "id": "3eb1aaac",
      "metadata": {
        "id": "3eb1aaac"
      },
      "source": [
        "Presentado por: Anderson Zambrano, Dyllan Raza y Yomar Peralta - Grupo  5<br>\n",
        "Lider: Dyllan Raza  <br>\n",
        "Fecha: 16/08/2022"
      ]
    },
    {
      "cell_type": "markdown",
      "id": "1dec299b",
      "metadata": {
        "ExecuteTime": {
          "end_time": "2022-03-14T15:14:04.930713Z",
          "start_time": "2022-03-14T15:14:04.921682Z"
        },
        "id": "1dec299b"
      },
      "source": [
        "# Importación de librerias necesarias"
      ]
    },
    {
      "cell_type": "code",
      "execution_count": null,
      "id": "6d1abf7a",
      "metadata": {
        "ExecuteTime": {
          "end_time": "2022-03-14T15:14:46.228059Z",
          "start_time": "2022-03-14T15:14:46.223108Z"
        },
        "id": "6d1abf7a"
      },
      "outputs": [],
      "source": [
        "#Para esta actividad se importarán las siguientes librerías:\n",
        "import pandas as pd\n",
        "import numpy as np\n",
        "import matplotlib.pyplot as plt\n",
        "import seaborn as sns\n",
        "from sklearn.feature_extraction.text import CountVectorizer\n",
        "from sklearn.feature_extraction.text import TfidfVectorizer\n",
        "from sklearn.linear_model import LogisticRegression\n",
        "from sklearn.model_selection import train_test_split\n",
        "from sklearn.dummy import DummyClassifier\n",
        "from string import punctuation\n",
        "from sklearn import svm\n",
        "from nltk.corpus import stopwords\n",
        "from nltk.stem import WordNetLemmatizer\n",
        "import nltk\n",
        "from nltk import ngrams\n",
        "from itertools import chain\n",
        "from wordcloud import WordCloud"
      ]
    },
    {
      "cell_type": "markdown",
      "id": "6a44b924",
      "metadata": {
        "id": "6a44b924"
      },
      "source": [
        "## Cargar el Dataset"
      ]
    },
    {
      "cell_type": "code",
      "execution_count": null,
      "id": "3541e808",
      "metadata": {
        "id": "3541e808",
        "colab": {
          "base_uri": "https://localhost:8080/",
          "height": 756
        },
        "outputId": "5ad0f169-74ee-4232-9f1a-c9ea75ea2e25"
      },
      "outputs": [
        {
          "output_type": "execute_result",
          "data": {
            "text/plain": [
              "   Id   ProductId          UserId                      ProfileName  \\\n",
              "0   1  B001E4KFG0  A3SGXH7AUHU8GW                       delmartian   \n",
              "1   2  B00813GRG4  A1D87F6ZCVE5NK                           dll pa   \n",
              "2   3  B000LQOCH0   ABXLMWJIXXAIN  Natalia Corres \"Natalia Corres\"   \n",
              "3   4  B000UA0QIQ  A395BORC6FGVXV                             Karl   \n",
              "4   5  B006K2ZZ7K  A1UQRSCLF8GW1T    Michael D. Bigham \"M. Wassir\"   \n",
              "\n",
              "   HelpfulnessNumerator  HelpfulnessDenominator  Score        Time  \\\n",
              "0                     1                       1      5  1303862400   \n",
              "1                     0                       0      1  1346976000   \n",
              "2                     1                       1      4  1219017600   \n",
              "3                     3                       3      2  1307923200   \n",
              "4                     0                       0      5  1350777600   \n",
              "\n",
              "                 Summary                                               Text  \\\n",
              "0  Good Quality Dog Food  I have bought several of the Vitality canned d...   \n",
              "1      Not as Advertised  Product arrived labeled as Jumbo Salted Peanut...   \n",
              "2  \"Delight\" says it all  This is a confection that has been around a fe...   \n",
              "3         Cough Medicine  If you are looking for the secret ingredient i...   \n",
              "4            Great taffy  Great taffy at a great price.  There was a wid...   \n",
              "\n",
              "   Helpful % % Upvote  \n",
              "0        1.0  80-100%  \n",
              "1       -1.0    Empty  \n",
              "2        1.0  80-100%  \n",
              "3        1.0  80-100%  \n",
              "4       -1.0    Empty  "
            ],
            "text/html": [
              "\n",
              "  <div id=\"df-e34b9f97-7107-4f50-ad2f-e446de0084d6\">\n",
              "    <div class=\"colab-df-container\">\n",
              "      <div>\n",
              "<style scoped>\n",
              "    .dataframe tbody tr th:only-of-type {\n",
              "        vertical-align: middle;\n",
              "    }\n",
              "\n",
              "    .dataframe tbody tr th {\n",
              "        vertical-align: top;\n",
              "    }\n",
              "\n",
              "    .dataframe thead th {\n",
              "        text-align: right;\n",
              "    }\n",
              "</style>\n",
              "<table border=\"1\" class=\"dataframe\">\n",
              "  <thead>\n",
              "    <tr style=\"text-align: right;\">\n",
              "      <th></th>\n",
              "      <th>Id</th>\n",
              "      <th>ProductId</th>\n",
              "      <th>UserId</th>\n",
              "      <th>ProfileName</th>\n",
              "      <th>HelpfulnessNumerator</th>\n",
              "      <th>HelpfulnessDenominator</th>\n",
              "      <th>Score</th>\n",
              "      <th>Time</th>\n",
              "      <th>Summary</th>\n",
              "      <th>Text</th>\n",
              "      <th>Helpful %</th>\n",
              "      <th>% Upvote</th>\n",
              "    </tr>\n",
              "  </thead>\n",
              "  <tbody>\n",
              "    <tr>\n",
              "      <th>0</th>\n",
              "      <td>1</td>\n",
              "      <td>B001E4KFG0</td>\n",
              "      <td>A3SGXH7AUHU8GW</td>\n",
              "      <td>delmartian</td>\n",
              "      <td>1</td>\n",
              "      <td>1</td>\n",
              "      <td>5</td>\n",
              "      <td>1303862400</td>\n",
              "      <td>Good Quality Dog Food</td>\n",
              "      <td>I have bought several of the Vitality canned d...</td>\n",
              "      <td>1.0</td>\n",
              "      <td>80-100%</td>\n",
              "    </tr>\n",
              "    <tr>\n",
              "      <th>1</th>\n",
              "      <td>2</td>\n",
              "      <td>B00813GRG4</td>\n",
              "      <td>A1D87F6ZCVE5NK</td>\n",
              "      <td>dll pa</td>\n",
              "      <td>0</td>\n",
              "      <td>0</td>\n",
              "      <td>1</td>\n",
              "      <td>1346976000</td>\n",
              "      <td>Not as Advertised</td>\n",
              "      <td>Product arrived labeled as Jumbo Salted Peanut...</td>\n",
              "      <td>-1.0</td>\n",
              "      <td>Empty</td>\n",
              "    </tr>\n",
              "    <tr>\n",
              "      <th>2</th>\n",
              "      <td>3</td>\n",
              "      <td>B000LQOCH0</td>\n",
              "      <td>ABXLMWJIXXAIN</td>\n",
              "      <td>Natalia Corres \"Natalia Corres\"</td>\n",
              "      <td>1</td>\n",
              "      <td>1</td>\n",
              "      <td>4</td>\n",
              "      <td>1219017600</td>\n",
              "      <td>\"Delight\" says it all</td>\n",
              "      <td>This is a confection that has been around a fe...</td>\n",
              "      <td>1.0</td>\n",
              "      <td>80-100%</td>\n",
              "    </tr>\n",
              "    <tr>\n",
              "      <th>3</th>\n",
              "      <td>4</td>\n",
              "      <td>B000UA0QIQ</td>\n",
              "      <td>A395BORC6FGVXV</td>\n",
              "      <td>Karl</td>\n",
              "      <td>3</td>\n",
              "      <td>3</td>\n",
              "      <td>2</td>\n",
              "      <td>1307923200</td>\n",
              "      <td>Cough Medicine</td>\n",
              "      <td>If you are looking for the secret ingredient i...</td>\n",
              "      <td>1.0</td>\n",
              "      <td>80-100%</td>\n",
              "    </tr>\n",
              "    <tr>\n",
              "      <th>4</th>\n",
              "      <td>5</td>\n",
              "      <td>B006K2ZZ7K</td>\n",
              "      <td>A1UQRSCLF8GW1T</td>\n",
              "      <td>Michael D. Bigham \"M. Wassir\"</td>\n",
              "      <td>0</td>\n",
              "      <td>0</td>\n",
              "      <td>5</td>\n",
              "      <td>1350777600</td>\n",
              "      <td>Great taffy</td>\n",
              "      <td>Great taffy at a great price.  There was a wid...</td>\n",
              "      <td>-1.0</td>\n",
              "      <td>Empty</td>\n",
              "    </tr>\n",
              "  </tbody>\n",
              "</table>\n",
              "</div>\n",
              "      <button class=\"colab-df-convert\" onclick=\"convertToInteractive('df-e34b9f97-7107-4f50-ad2f-e446de0084d6')\"\n",
              "              title=\"Convert this dataframe to an interactive table.\"\n",
              "              style=\"display:none;\">\n",
              "        \n",
              "  <svg xmlns=\"http://www.w3.org/2000/svg\" height=\"24px\"viewBox=\"0 0 24 24\"\n",
              "       width=\"24px\">\n",
              "    <path d=\"M0 0h24v24H0V0z\" fill=\"none\"/>\n",
              "    <path d=\"M18.56 5.44l.94 2.06.94-2.06 2.06-.94-2.06-.94-.94-2.06-.94 2.06-2.06.94zm-11 1L8.5 8.5l.94-2.06 2.06-.94-2.06-.94L8.5 2.5l-.94 2.06-2.06.94zm10 10l.94 2.06.94-2.06 2.06-.94-2.06-.94-.94-2.06-.94 2.06-2.06.94z\"/><path d=\"M17.41 7.96l-1.37-1.37c-.4-.4-.92-.59-1.43-.59-.52 0-1.04.2-1.43.59L10.3 9.45l-7.72 7.72c-.78.78-.78 2.05 0 2.83L4 21.41c.39.39.9.59 1.41.59.51 0 1.02-.2 1.41-.59l7.78-7.78 2.81-2.81c.8-.78.8-2.07 0-2.86zM5.41 20L4 18.59l7.72-7.72 1.47 1.35L5.41 20z\"/>\n",
              "  </svg>\n",
              "      </button>\n",
              "      \n",
              "  <style>\n",
              "    .colab-df-container {\n",
              "      display:flex;\n",
              "      flex-wrap:wrap;\n",
              "      gap: 12px;\n",
              "    }\n",
              "\n",
              "    .colab-df-convert {\n",
              "      background-color: #E8F0FE;\n",
              "      border: none;\n",
              "      border-radius: 50%;\n",
              "      cursor: pointer;\n",
              "      display: none;\n",
              "      fill: #1967D2;\n",
              "      height: 32px;\n",
              "      padding: 0 0 0 0;\n",
              "      width: 32px;\n",
              "    }\n",
              "\n",
              "    .colab-df-convert:hover {\n",
              "      background-color: #E2EBFA;\n",
              "      box-shadow: 0px 1px 2px rgba(60, 64, 67, 0.3), 0px 1px 3px 1px rgba(60, 64, 67, 0.15);\n",
              "      fill: #174EA6;\n",
              "    }\n",
              "\n",
              "    [theme=dark] .colab-df-convert {\n",
              "      background-color: #3B4455;\n",
              "      fill: #D2E3FC;\n",
              "    }\n",
              "\n",
              "    [theme=dark] .colab-df-convert:hover {\n",
              "      background-color: #434B5C;\n",
              "      box-shadow: 0px 1px 3px 1px rgba(0, 0, 0, 0.15);\n",
              "      filter: drop-shadow(0px 1px 2px rgba(0, 0, 0, 0.3));\n",
              "      fill: #FFFFFF;\n",
              "    }\n",
              "  </style>\n",
              "\n",
              "      <script>\n",
              "        const buttonEl =\n",
              "          document.querySelector('#df-e34b9f97-7107-4f50-ad2f-e446de0084d6 button.colab-df-convert');\n",
              "        buttonEl.style.display =\n",
              "          google.colab.kernel.accessAllowed ? 'block' : 'none';\n",
              "\n",
              "        async function convertToInteractive(key) {\n",
              "          const element = document.querySelector('#df-e34b9f97-7107-4f50-ad2f-e446de0084d6');\n",
              "          const dataTable =\n",
              "            await google.colab.kernel.invokeFunction('convertToInteractive',\n",
              "                                                     [key], {});\n",
              "          if (!dataTable) return;\n",
              "\n",
              "          const docLinkHtml = 'Like what you see? Visit the ' +\n",
              "            '<a target=\"_blank\" href=https://colab.research.google.com/notebooks/data_table.ipynb>data table notebook</a>'\n",
              "            + ' to learn more about interactive tables.';\n",
              "          element.innerHTML = '';\n",
              "          dataTable['output_type'] = 'display_data';\n",
              "          await google.colab.output.renderOutput(dataTable, element);\n",
              "          const docLink = document.createElement('div');\n",
              "          docLink.innerHTML = docLinkHtml;\n",
              "          element.appendChild(docLink);\n",
              "        }\n",
              "      </script>\n",
              "    </div>\n",
              "  </div>\n",
              "  "
            ]
          },
          "metadata": {},
          "execution_count": 3
        }
      ],
      "source": [
        "#Código para cargar el Dataset\n",
        "odf = pd.read_csv('/content/drive/MyDrive/Colab Notebooks/Reviews.csv')\n",
        "#Ahora cargamos el conjunto de datos y agregamos algunas columnas para las métricas de votos a favor:\n",
        "odf['Helpful %'] = np.where(odf['HelpfulnessDenominator'] > 0, odf['HelpfulnessNumerator'] / odf['HelpfulnessDenominator'], -1)\n",
        "odf['% Upvote'] = pd.cut(odf['Helpful %'], bins = [-1, 0, 0.2, 0.4, 0.6, 0.8, 1.0], labels = ['Empty', '0-20%', '20-40%', '40-60%', '60-80%', '80-100%'], include_lowest = True)\n",
        "odf.head()"
      ]
    },
    {
      "cell_type": "markdown",
      "id": "93c30410",
      "metadata": {
        "id": "93c30410"
      },
      "source": [
        "## Descripción de la fuente del Dataset"
      ]
    },
    {
      "cell_type": "markdown",
      "id": "db6174bc",
      "metadata": {
        "id": "db6174bc"
      },
      "source": [
        "En este conjunto de datos reposan historiales de alimentos finos de Amazon. Los datos abarcan un período de más de 10 años, incluidos los aproximadamente 568 mil historiales hasta octubre de 2012. Los historiales incluyen información del producto y del usuario, calificaciones y una pequeña acotacion de texto sin formato. También incluye histriales de todas las demás categorías de Amazon."
      ]
    },
    {
      "cell_type": "markdown",
      "id": "7f868eab",
      "metadata": {
        "id": "7f868eab"
      },
      "source": [
        "## Explique el problema a resolver. \n",
        "Lo que se pretende solucionar con este modelo es que se pueda mejorar la interaccion que los usuarios tienen con la plataforma, tomando en cuenta que sea cual sea el tipo de compra que este realice debe ejecutarse de manera satisfacctoria"
      ]
    },
    {
      "cell_type": "code",
      "execution_count": null,
      "id": "2f0ed5d2",
      "metadata": {
        "id": "2f0ed5d2",
        "colab": {
          "base_uri": "https://localhost:8080/"
        },
        "outputId": "6bd5fbb0-d06a-4f9f-9ccf-c41571b29b01"
      },
      "outputs": [
        {
          "output_type": "execute_result",
          "data": {
            "text/plain": [
              "(568454, 12)"
            ]
          },
          "metadata": {},
          "execution_count": 43
        }
      ],
      "source": [
        "#Código que responde a la descripción anterior\n",
        "odf.shape"
      ]
    },
    {
      "cell_type": "markdown",
      "id": "a0b719c1",
      "metadata": {
        "id": "a0b719c1"
      },
      "source": [
        "## Caracterización del Dataset\n",
        "\n",
        "Realice una descripción de los datos con:\n",
        "\n",
        "Los datos incluyen:\n",
        "\n",
        ">- Reseñas de octubre de 1999 a octubre de 2012\n",
        ">- 568,454 reseñas\n",
        ">- 256.059 usuarios\n",
        ">- 74,258 productos\n",
        ">- 260 usuarios con > 50 reseñas\n"
      ]
    },
    {
      "cell_type": "markdown",
      "id": "0a19e6af",
      "metadata": {
        "id": "0a19e6af"
      },
      "source": [
        "## Preprocesamiento del dataset. Transformaciones previas necesarias para la modelación"
      ]
    },
    {
      "cell_type": "code",
      "execution_count": null,
      "id": "5a24dac4",
      "metadata": {
        "id": "5a24dac4",
        "colab": {
          "base_uri": "https://localhost:8080/",
          "height": 638
        },
        "outputId": "2e428295-e9a7-4807-b523-47a4742a14c5"
      },
      "outputs": [
        {
          "output_type": "execute_result",
          "data": {
            "text/plain": [
              "Text(0.5, 1.0, 'How helpful users find among user scores')"
            ]
          },
          "metadata": {},
          "execution_count": 4
        },
        {
          "output_type": "display_data",
          "data": {
            "text/plain": [
              "<Figure size 1080x720 with 2 Axes>"
            ],
            "image/png": "[encoded data removed]"
          },
          "metadata": {
            "needs_background": "light"
          }
        }
      ],
      "source": [
        "#Transformación de las caracteristicas (mire el apartado Feature engineering del aula virtual)\n",
        "df_s = odf.groupby(['Score', '% Upvote']).agg({'Id': 'count'})\n",
        "df_s = df_s.unstack()\n",
        "df_s.columns = df_s.columns.get_level_values(1)\n",
        "fig = plt.figure(figsize=(15,10))\n",
        "\n",
        "sns.heatmap(df_s[df_s.columns[::-1]].T, cmap = 'YlGnBu', linewidths=.5, annot = True, fmt = 'd', cbar_kws={'label': '# reviews'})\n",
        "plt.yticks(rotation=0)\n",
        "plt.title('How helpful users find among user scores')"
      ]
    },
    {
      "cell_type": "markdown",
      "source": [
        "Las críticas están sesgadas hacia lo positivo.\n",
        "\n",
        "Más de la mitad de las reseñas son con cero votos\n",
        "\n",
        "Mucha gente está de acuerdo con la puntuación 5 reseñas\n",
        "\n",
        "Luego nos deshacemos de las reseñas de puntuación 3 (neutrales) y separamos las reseñas restantes en clases binarias (1 = positivo, 0 = negativo):"
      ],
      "metadata": {
        "id": "nh51nM-1scED"
      },
      "id": "nh51nM-1scED"
    },
    {
      "cell_type": "code",
      "source": [
        "df = odf[odf['Score'] != 3]\n",
        "X = df['Text']\n",
        "y_dict = {1:0, 2:0, 4:1, 5:1}\n",
        "y = df['Score'].map(y_dict)"
      ],
      "metadata": {
        "id": "S4hPtC1Eq0tt"
      },
      "id": "S4hPtC1Eq0tt",
      "execution_count": null,
      "outputs": []
    },
    {
      "cell_type": "markdown",
      "source": [
        "'''Predicción de puntuación\n",
        "Modelo de regresión logística sobre recuento de palabras'''"
      ],
      "metadata": {
        "id": "MnOZiDEHsl8N"
      },
      "id": "MnOZiDEHsl8N"
    },
    {
      "cell_type": "code",
      "source": [
        "c = CountVectorizer(stop_words = 'english')\n",
        "\n",
        "def text_fit(X, y, model,clf_model,coef_show=1):\n",
        "    \n",
        "    X_c = model.fit_transform(X)\n",
        "    print('# features: {}'.format(X_c.shape[1]))\n",
        "    X_train, X_test, y_train, y_test = train_test_split(X_c, y, random_state=0)\n",
        "    print('# train records: {}'.format(X_train.shape[0]))\n",
        "    print('# test records: {}'.format(X_test.shape[0]))\n",
        "    clf = clf_model.fit(X_train, y_train)\n",
        "    acc = clf.score(X_test, y_test)\n",
        "    print ('Model Accuracy: {}'.format(acc))\n",
        "    \n",
        "    if coef_show == 1: \n",
        "        w = model.get_feature_names()\n",
        "        coef = clf.coef_.tolist()[0]\n",
        "        coeff_df = pd.DataFrame({'Word' : w, 'Coefficient' : coef})\n",
        "        coeff_df = coeff_df.sort_values(['Coefficient', 'Word'], ascending=[0, 1])\n",
        "        print('')\n",
        "        print('-Top 20 positive-')\n",
        "        print(coeff_df.head(20).to_string(index=False))\n",
        "        print('')\n",
        "        print('-Top 20 negative-')        \n",
        "        print(coeff_df.tail(20).to_string(index=False))\n",
        "    \n",
        "    \n",
        "text_fit(X, y, c, LogisticRegression())"
      ],
      "metadata": {
        "colab": {
          "base_uri": "https://localhost:8080/"
        },
        "id": "lysALI4Qq0xt",
        "outputId": "64346938-bdba-4ed0-8000-549ba9d90246"
      },
      "id": "lysALI4Qq0xt",
      "execution_count": null,
      "outputs": [
        {
          "output_type": "stream",
          "name": "stdout",
          "text": [
            "# features: 114969\n",
            "# train records: 394360\n",
            "# test records: 131454\n"
          ]
        },
        {
          "output_type": "stream",
          "name": "stderr",
          "text": [
            "/usr/local/lib/python3.7/dist-packages/sklearn/linear_model/_logistic.py:818: ConvergenceWarning: lbfgs failed to converge (status=1):\n",
            "STOP: TOTAL NO. of ITERATIONS REACHED LIMIT.\n",
            "\n",
            "Increase the number of iterations (max_iter) or scale the data as shown in:\n",
            "    https://scikit-learn.org/stable/modules/preprocessing.html\n",
            "Please also refer to the documentation for alternative solver options:\n",
            "    https://scikit-learn.org/stable/modules/linear_model.html#logistic-regression\n",
            "  extra_warning_msg=_LOGISTIC_SOLVER_CONVERGENCE_MSG,\n",
            "/usr/local/lib/python3.7/dist-packages/sklearn/utils/deprecation.py:87: FutureWarning: Function get_feature_names is deprecated; get_feature_names is deprecated in 1.0 and will be removed in 1.2. Please use get_feature_names_out instead.\n",
            "  warnings.warn(msg, category=FutureWarning)\n"
          ]
        },
        {
          "output_type": "stream",
          "name": "stdout",
          "text": [
            "Model Accuracy: 0.9358102454090405\n",
            "\n",
            "-Top 20 positive-\n",
            "       Word  Coefficient\n",
            " pleasantly     4.232730\n",
            "   downside     3.125648\n",
            "  addicting     2.958208\n",
            "   drawback     2.669476\n",
            "  skeptical     2.510482\n",
            "     resist     2.379250\n",
            " economical     2.265155\n",
            "       whim     2.235738\n",
            "   soothing     2.218361\n",
            "    easiest     2.206106\n",
            "     hooked     2.173942\n",
            "    welcome     2.083908\n",
            "  delighted     2.078764\n",
            "      meets     1.976063\n",
            "        yay     1.975571\n",
            "  excellent     1.970803\n",
            "wonderfully     1.970568\n",
            "    worries     1.944912\n",
            "exceptional     1.941874\n",
            "     delish     1.933417\n",
            "\n",
            "-Top 20 negative-\n",
            "         Word  Coefficient\n",
            "        ruins    -2.305289\n",
            "       lacked    -2.326984\n",
            "        blech    -2.333991\n",
            "   unfinished    -2.349367\n",
            "   unbearable    -2.355606\n",
            "          ick    -2.418676\n",
            "   overpowers    -2.488406\n",
            "  unappealing    -2.531167\n",
            "  disapointed    -2.557415\n",
            "      defeats    -2.613754\n",
            "   returnable    -2.683771\n",
            "     mediocre    -2.735403\n",
            "       ripoff    -2.843023\n",
            "disappointing    -2.945808\n",
            "  embarrassed    -2.958636\n",
            "        worst    -3.014099\n",
            "    cancelled    -3.121148\n",
            " unacceptable    -3.378199\n",
            "    deceptive    -3.520591\n",
            "  undrinkable    -3.659806\n"
          ]
        }
      ]
    },
    {
      "cell_type": "markdown",
      "source": [
        "La accuraccy es de alrededor del 93,5%, no está mal. Sin embargo, notamos que algunos de esos coeficientes significativos no son significativos, p. 280 mg.\n",
        "\n",
        "Veamos también la precisión de la línea base (prediciendo con clase mayoritaria, en este caso clase positiva):"
      ],
      "metadata": {
        "id": "n16x_VCBsqd7"
      },
      "id": "n16x_VCBsqd7"
    },
    {
      "cell_type": "code",
      "source": [
        "text_fit(X, y, c, DummyClassifier(),0)"
      ],
      "metadata": {
        "colab": {
          "base_uri": "https://localhost:8080/"
        },
        "id": "ucz9POHCq00m",
        "outputId": "9efbc55b-f5e5-4c87-e56d-b2bf048581dc"
      },
      "id": "ucz9POHCq00m",
      "execution_count": null,
      "outputs": [
        {
          "output_type": "stream",
          "name": "stdout",
          "text": [
            "# features: 114969\n",
            "# train records: 394360\n",
            "# test records: 131454\n",
            "Model Accuracy: 0.8437324082949168\n"
          ]
        }
      ]
    },
    {
      "cell_type": "markdown",
      "source": [
        "Logistic regression model on TFIDF¶"
      ],
      "metadata": {
        "id": "Jxw4oZXGs4es"
      },
      "id": "Jxw4oZXGs4es"
    },
    {
      "cell_type": "code",
      "source": [
        "tfidf = TfidfVectorizer(stop_words = 'english')\n",
        "text_fit(X, y, tfidf, LogisticRegression())"
      ],
      "metadata": {
        "colab": {
          "base_uri": "https://localhost:8080/"
        },
        "id": "2uUbyxRsq03d",
        "outputId": "c5c77606-9909-47a9-bcb5-1ff043aad034"
      },
      "id": "2uUbyxRsq03d",
      "execution_count": null,
      "outputs": [
        {
          "output_type": "stream",
          "name": "stdout",
          "text": [
            "# features: 114969\n",
            "# train records: 394360\n",
            "# test records: 131454\n"
          ]
        },
        {
          "output_type": "stream",
          "name": "stderr",
          "text": [
            "/usr/local/lib/python3.7/dist-packages/sklearn/linear_model/_logistic.py:818: ConvergenceWarning: lbfgs failed to converge (status=1):\n",
            "STOP: TOTAL NO. of ITERATIONS REACHED LIMIT.\n",
            "\n",
            "Increase the number of iterations (max_iter) or scale the data as shown in:\n",
            "    https://scikit-learn.org/stable/modules/preprocessing.html\n",
            "Please also refer to the documentation for alternative solver options:\n",
            "    https://scikit-learn.org/stable/modules/linear_model.html#logistic-regression\n",
            "  extra_warning_msg=_LOGISTIC_SOLVER_CONVERGENCE_MSG,\n",
            "/usr/local/lib/python3.7/dist-packages/sklearn/utils/deprecation.py:87: FutureWarning: Function get_feature_names is deprecated; get_feature_names is deprecated in 1.0 and will be removed in 1.2. Please use get_feature_names_out instead.\n",
            "  warnings.warn(msg, category=FutureWarning)\n"
          ]
        },
        {
          "output_type": "stream",
          "name": "stdout",
          "text": [
            "Model Accuracy: 0.9346083040455216\n",
            "\n",
            "-Top 20 positive-\n",
            "      Word  Coefficient\n",
            "     great    13.695298\n",
            " delicious    12.264886\n",
            "      best    11.967094\n",
            "   perfect    10.723732\n",
            " excellent    10.013792\n",
            "     loves     9.552907\n",
            "    highly     8.970362\n",
            "      love     8.286137\n",
            " wonderful     8.087789\n",
            "   amazing     7.729151\n",
            "   awesome     7.501135\n",
            "pleasantly     7.455942\n",
            "      good     7.348545\n",
            "      nice     7.096568\n",
            "    hooked     7.076224\n",
            "   pleased     6.980317\n",
            "    smooth     6.910817\n",
            "  favorite     6.853610\n",
            "     yummy     6.821671\n",
            " fantastic     6.569467\n",
            "\n",
            "-Top 20 negative-\n",
            "          Word  Coefficient\n",
            "         waste    -5.647138\n",
            "          poor    -5.756170\n",
            "   undrinkable    -5.866625\n",
            "          yuck    -5.945607\n",
            "         stale    -6.088770\n",
            "         worse    -6.217101\n",
            "         bland    -6.345562\n",
            "          weak    -6.477051\n",
            "    disgusting    -6.514147\n",
            "         threw    -6.727794\n",
            "     tasteless    -6.733551\n",
            "        return    -6.795280\n",
            " unfortunately    -7.411392\n",
            "      horrible    -7.850534\n",
            "disappointment    -8.211662\n",
            "         awful    -8.216881\n",
            "  disappointed    -8.527157\n",
            "      terrible    -9.360631\n",
            " disappointing   -10.113241\n",
            "         worst   -11.701481\n"
          ]
        }
      ]
    },
    {
      "cell_type": "markdown",
      "source": [
        "El accuraccy es aproximadamente la misma: 93,4 %. Sin embargo, notamos que las palabras significativas tienen mucho más sentido ahora"
      ],
      "metadata": {
        "id": "Z6r3EB-Bs_qs"
      },
      "id": "Z6r3EB-Bs_qs"
    },
    {
      "cell_type": "markdown",
      "source": [
        "Logistic regression model on TFIDF + ngram"
      ],
      "metadata": {
        "id": "IVfKgP96tJR0"
      },
      "id": "IVfKgP96tJR0"
    },
    {
      "cell_type": "code",
      "source": [
        "tfidf_n = TfidfVectorizer(ngram_range=(1,2),stop_words = 'english')\n",
        "text_fit(X, y, tfidf_n, LogisticRegression())"
      ],
      "metadata": {
        "colab": {
          "base_uri": "https://localhost:8080/"
        },
        "id": "rG7AZdt6q06W",
        "outputId": "e57aa228-6892-4fc6-9b71-c2e8525a905d"
      },
      "id": "rG7AZdt6q06W",
      "execution_count": null,
      "outputs": [
        {
          "output_type": "stream",
          "name": "stdout",
          "text": [
            "# features: 3933179\n",
            "# train records: 394360\n",
            "# test records: 131454\n"
          ]
        },
        {
          "output_type": "stream",
          "name": "stderr",
          "text": [
            "/usr/local/lib/python3.7/dist-packages/sklearn/linear_model/_logistic.py:818: ConvergenceWarning: lbfgs failed to converge (status=1):\n",
            "STOP: TOTAL NO. of ITERATIONS REACHED LIMIT.\n",
            "\n",
            "Increase the number of iterations (max_iter) or scale the data as shown in:\n",
            "    https://scikit-learn.org/stable/modules/preprocessing.html\n",
            "Please also refer to the documentation for alternative solver options:\n",
            "    https://scikit-learn.org/stable/modules/linear_model.html#logistic-regression\n",
            "  extra_warning_msg=_LOGISTIC_SOLVER_CONVERGENCE_MSG,\n",
            "/usr/local/lib/python3.7/dist-packages/sklearn/utils/deprecation.py:87: FutureWarning: Function get_feature_names is deprecated; get_feature_names is deprecated in 1.0 and will be removed in 1.2. Please use get_feature_names_out instead.\n",
            "  warnings.warn(msg, category=FutureWarning)\n"
          ]
        },
        {
          "output_type": "stream",
          "name": "stdout",
          "text": [
            "Model Accuracy: 0.9456768147032422\n",
            "\n",
            "-Top 20 positive-\n",
            "     Word  Coefficient\n",
            "    great    20.656004\n",
            "     best    17.912018\n",
            "delicious    16.972224\n",
            "  perfect    14.507385\n",
            "    loves    13.706369\n",
            "     love    13.044294\n",
            "excellent    13.036191\n",
            "     good    11.403729\n",
            "wonderful    11.200842\n",
            "     nice    10.901578\n",
            " favorite    10.659798\n",
            "  amazing     9.561725\n",
            "  awesome     9.251510\n",
            "     easy     9.141534\n",
            "    happy     8.964936\n",
            "  pleased     8.778300\n",
            "   smooth     8.607139\n",
            "    yummy     8.502293\n",
            "    tasty     8.459028\n",
            "   highly     8.402930\n",
            "\n",
            "-Top 20 negative-\n",
            "          Word  Coefficient\n",
            "         maybe    -7.892097\n",
            "        hoping    -8.053516\n",
            "         money    -8.167249\n",
            "     tasteless    -8.196235\n",
            "         worse    -8.266857\n",
            "       thought    -8.448484\n",
            "    disgusting    -8.679442\n",
            "         bland    -9.116741\n",
            "         threw    -9.248305\n",
            "         stale    -9.972202\n",
            "        return   -10.099827\n",
            "          weak   -10.110367\n",
            "disappointment   -10.274333\n",
            " unfortunately   -10.802058\n",
            "      horrible   -11.287234\n",
            "         awful   -11.747038\n",
            "      terrible   -12.926987\n",
            " disappointing   -13.316806\n",
            "  disappointed   -14.585683\n",
            "         worst   -15.032529\n"
          ]
        }
      ]
    },
    {
      "cell_type": "markdown",
      "source": [
        "Al agregar el parámetro ngram, podemos entender frases como \"no es bueno\". Por lo tanto, la precisión sube un poco al 94,5%. Podemos ver que \"muy recomendable\" está en el puesto 20 de palabras positivas\n"
      ],
      "metadata": {
        "id": "Lgj1kIYTtMz0"
      },
      "id": "Lgj1kIYTtMz0"
    },
    {
      "cell_type": "code",
      "source": [
        "df = df[df['Score'] == 5]\n",
        "df = df[df['% Upvote'].isin(['0-20%', '20-40%', '60-80%', '80-100%'])]\n",
        "df.shape\n",
        "\n",
        "X = df['Text']\n",
        "y_dict = {'0-20%': 0, '20-40%': 0, '60-80%': 1, '80-100%': 1}\n",
        "y = df['% Upvote'].map(y_dict)\n",
        "\n",
        "print('Class distribution:')\n",
        "print(y.value_counts())"
      ],
      "metadata": {
        "colab": {
          "base_uri": "https://localhost:8080/"
        },
        "id": "o75oMm4yq08v",
        "outputId": "764b6c6b-5160-4676-c2e0-3a18ae42e632"
      },
      "id": "o75oMm4yq08v",
      "execution_count": null,
      "outputs": [
        {
          "output_type": "stream",
          "name": "stdout",
          "text": [
            "Class distribution:\n",
            "1.0    151721\n",
            "0.0      2707\n",
            "Name: % Upvote, dtype: int64\n"
          ]
        }
      ]
    },
    {
      "cell_type": "code",
      "source": [
        "df_s = pd.DataFrame(data = [X,y]).T\n",
        "\n",
        "Downvote_records = len(df_s[df_s['% Upvote'] == 0])\n",
        "Downvote_indices = np.array(df_s[df_s['% Upvote'] == 0].index)\n",
        "\n",
        "Upvote_indices = df_s[df_s['% Upvote'] == 1].index\n",
        "\n",
        "random_upvote_indices = np.random.choice(Upvote_indices, Downvote_records, replace = False)\n",
        "random_upvote_indices = np.array(random_upvote_indices)\n",
        "\n",
        "under_sample_indices = np.concatenate([Downvote_indices,random_upvote_indices])\n",
        "\n",
        "under_sample_data = df_s.loc[under_sample_indices, :]\n",
        "X_u = under_sample_data['Text']\n",
        "under_sample_data['% Upvote'] = under_sample_data['% Upvote'].astype(int)\n",
        "y_u = under_sample_data['% Upvote']\n",
        "\n",
        "\n",
        "print(\"Percentage of upvote transactions: \", len(under_sample_data[under_sample_data['% Upvote'] == 1])/len(under_sample_data))\n",
        "print(\"Percentage of downvote transactions: \", len(under_sample_data[under_sample_data['% Upvote'] == 0])/len(under_sample_data))\n",
        "print(\"Total number of records in resampled data: \", len(under_sample_data))"
      ],
      "metadata": {
        "colab": {
          "base_uri": "https://localhost:8080/"
        },
        "id": "vtfyuuf0ut82",
        "outputId": "f70750dd-c19c-4c69-b7cc-321d9b686326"
      },
      "id": "vtfyuuf0ut82",
      "execution_count": null,
      "outputs": [
        {
          "output_type": "stream",
          "name": "stdout",
          "text": [
            "Percentage of upvote transactions:  0.5\n",
            "Percentage of downvote transactions:  0.5\n",
            "Total number of records in resampled data:  5414\n"
          ]
        }
      ]
    },
    {
      "cell_type": "code",
      "source": [
        "c = CountVectorizer(stop_words = 'english')\n",
        "\n",
        "text_fit(X_u, y_u, c, LogisticRegression())"
      ],
      "metadata": {
        "colab": {
          "base_uri": "https://localhost:8080/"
        },
        "id": "OxLNtTzurDXx",
        "outputId": "59be9aa6-4699-4743-81a3-2aa416ef8b07"
      },
      "id": "OxLNtTzurDXx",
      "execution_count": null,
      "outputs": [
        {
          "output_type": "stream",
          "name": "stdout",
          "text": [
            "# features: 15844\n",
            "# train records: 4060\n",
            "# test records: 1354\n",
            "Model Accuracy: 0.7104874446085672\n",
            "\n",
            "-Top 20 positive-\n",
            "      Word  Coefficient\n",
            "       com     1.534636\n",
            "    longer     1.269332\n",
            "     weird     1.258520\n",
            "california     1.244574\n",
            "     saver     1.197867\n",
            "     value     1.165717\n",
            "  quantity     1.159178\n",
            "  dressing     1.141080\n",
            "    keurig     1.123951\n",
            "    stevia     1.118603\n",
            "      teas     1.115924\n",
            "  popchips     1.086641\n",
            " favorites     1.079693\n",
            "  training     1.055784\n",
            "   cheaper     1.052992\n",
            "   sitting     1.036024\n",
            "  flavored     1.030345\n",
            "     packs     1.029196\n",
            "  fabulous     1.025442\n",
            "      paid     1.015899\n",
            "\n",
            "-Top 20 negative-\n",
            "      Word  Coefficient\n",
            "     gonna    -1.018275\n",
            "    skinny    -1.020589\n",
            " overpower    -1.023109\n",
            "      zico    -1.023209\n",
            "    matter    -1.039278\n",
            "   markets    -1.041676\n",
            "  brooklyn    -1.056667\n",
            "    middle    -1.061338\n",
            "     cause    -1.061425\n",
            "   cleanse    -1.062812\n",
            "   freshly    -1.083384\n",
            "    seller    -1.093535\n",
            "   instant    -1.106657\n",
            "    newman    -1.123844\n",
            "   keeping    -1.124976\n",
            "   signing    -1.226251\n",
            "cappuccino    -1.313471\n",
            "    joints    -1.313855\n",
            "     kashi    -1.407921\n",
            "    marley    -1.721860\n"
          ]
        },
        {
          "output_type": "stream",
          "name": "stderr",
          "text": [
            "/usr/local/lib/python3.7/dist-packages/sklearn/linear_model/_logistic.py:818: ConvergenceWarning: lbfgs failed to converge (status=1):\n",
            "STOP: TOTAL NO. of ITERATIONS REACHED LIMIT.\n",
            "\n",
            "Increase the number of iterations (max_iter) or scale the data as shown in:\n",
            "    https://scikit-learn.org/stable/modules/preprocessing.html\n",
            "Please also refer to the documentation for alternative solver options:\n",
            "    https://scikit-learn.org/stable/modules/linear_model.html#logistic-regression\n",
            "  extra_warning_msg=_LOGISTIC_SOLVER_CONVERGENCE_MSG,\n",
            "/usr/local/lib/python3.7/dist-packages/sklearn/utils/deprecation.py:87: FutureWarning: Function get_feature_names is deprecated; get_feature_names is deprecated in 1.0 and will be removed in 1.2. Please use get_feature_names_out instead.\n",
            "  warnings.warn(msg, category=FutureWarning)\n"
          ]
        }
      ]
    },
    {
      "cell_type": "code",
      "source": [
        "tfidf_n = TfidfVectorizer(ngram_range=(1,2),stop_words = 'english')\n",
        "\n",
        "text_fit(X_u, y_u, tfidf_n, LogisticRegression())"
      ],
      "metadata": {
        "colab": {
          "base_uri": "https://localhost:8080/"
        },
        "id": "Lqka-6bTrDZU",
        "outputId": "bcc71b6b-17c6-44cb-bfc8-7c669a2d47b8"
      },
      "id": "Lqka-6bTrDZU",
      "execution_count": null,
      "outputs": [
        {
          "output_type": "stream",
          "name": "stdout",
          "text": [
            "# features: 142728\n",
            "# train records: 4060\n",
            "# test records: 1354\n",
            "Model Accuracy: 0.7230428360413589\n"
          ]
        },
        {
          "output_type": "stream",
          "name": "stderr",
          "text": [
            "/usr/local/lib/python3.7/dist-packages/sklearn/utils/deprecation.py:87: FutureWarning: Function get_feature_names is deprecated; get_feature_names is deprecated in 1.0 and will be removed in 1.2. Please use get_feature_names_out instead.\n",
            "  warnings.warn(msg, category=FutureWarning)\n"
          ]
        },
        {
          "output_type": "stream",
          "name": "stdout",
          "text": [
            "\n",
            "-Top 20 positive-\n",
            "     Word  Coefficient\n",
            "     food     2.198744\n",
            "   flavor     1.652919\n",
            "       ve     1.527509\n",
            "wonderful     1.261276\n",
            "     teas     1.218320\n",
            "     make     1.132877\n",
            "      bag     1.123785\n",
            "   longer     1.110112\n",
            "     rice     1.088898\n",
            "    seeds     1.086809\n",
            "      mix     1.077010\n",
            "     just     1.051198\n",
            "      tea     1.041402\n",
            "    loves     1.004898\n",
            "    sugar     0.976165\n",
            "  started     0.959109\n",
            "      lot     0.957474\n",
            "     chai     0.939667\n",
            "      box     0.938246\n",
            "     bags     0.936550\n",
            "\n",
            "-Top 20 negative-\n",
            "         Word  Coefficient\n",
            "      package    -0.872894\n",
            "   refreshing    -0.908349\n",
            "       lipton    -0.915122\n",
            "       bottle    -0.924467\n",
            "product great    -0.929136\n",
            "          new    -0.949494\n",
            "       thanks    -0.972434\n",
            "     received    -1.009538\n",
            "         item    -1.035750\n",
            "       marley    -1.062443\n",
            "         know    -1.093886\n",
            "        order    -1.096022\n",
            "      service    -1.110123\n",
            "         zico    -1.124651\n",
            "       seller    -1.125465\n",
            "   cappuccino    -1.140970\n",
            "       coffee    -1.206279\n",
            "        drink    -1.473548\n",
            "           br    -1.675512\n",
            "        water    -2.008697\n"
          ]
        }
      ]
    },
    {
      "cell_type": "code",
      "source": [
        "#pd.set_option('display.max_colwidth', -1)\n",
        "print('Downvote score 5 comments examples:')\n",
        "print(under_sample_data[under_sample_data['% Upvote']==0]['Text'].iloc[:100:20])\n",
        "print('Upvote score 5 comments examples')\n",
        "print(under_sample_data[under_sample_data['% Upvote']==1]['Text'].iloc[:100:20])"
      ],
      "metadata": {
        "colab": {
          "base_uri": "https://localhost:8080/"
        },
        "id": "EBuSgm2mrDcR",
        "outputId": "a0ed0724-8503-4477-dd11-7c5507cba055"
      },
      "id": "EBuSgm2mrDcR",
      "execution_count": null,
      "outputs": [
        {
          "output_type": "stream",
          "name": "stdout",
          "text": [
            "Downvote score 5 comments examples:\n",
            "207      Hard to find the wintergreen smalls [sugar fre...\n",
            "4511     Wonderful, smooth, satisfying decaf coffee wit...\n",
            "7787     My husband is a big coffee drinker, and with a...\n",
            "12072    We love French roast coffee and my husband mus...\n",
            "13671    THIS IS A LOVELY VERY HEALTHY TREE,ALONG WITH ...\n",
            "Name: Text, dtype: object\n",
            "Upvote score 5 comments examples\n",
            "71742     This product is a delicious strong coffee blen...\n",
            "377133    For some inexplicable reason, Frito Lay stoppe...\n",
            "184791    I can no longer find this item locally so am d...\n",
            "371727    All of the Ortiz tuna I've tried has been wond...\n",
            "509935    Excellent!  Very happy with the product.  I am...\n",
            "Name: Text, dtype: object\n"
          ]
        }
      ]
    },
    {
      "cell_type": "code",
      "source": [
        "under_sample_data['word_count'] = under_sample_data['Text'].apply(lambda x: len(x.split()))\n",
        "under_sample_data['capital_count'] = under_sample_data['Text'].apply(lambda x: sum(1 for c in x if c.isupper()))\n",
        "under_sample_data['question_mark'] = under_sample_data['Text'].apply(lambda x: sum(1 for c in x if c == '?'))\n",
        "under_sample_data['exclamation_mark'] = under_sample_data['Text'].apply(lambda x: sum(1 for c in x if c == '!'))\n",
        "under_sample_data['punctuation'] = under_sample_data['Text'].apply(lambda x: sum(1 for c in x if c in punctuation))\n",
        "\n",
        "print(under_sample_data.groupby('% Upvote').agg({'word_count': 'mean', 'capital_count': 'mean', 'question_mark': 'mean', 'exclamation_mark': 'mean', 'punctuation': 'mean'}).T)\n",
        "\n",
        "X_num = under_sample_data[under_sample_data.columns.difference(['% Upvote', 'Text'])]\n",
        "y_num = under_sample_data['% Upvote']"
      ],
      "metadata": {
        "colab": {
          "base_uri": "https://localhost:8080/"
        },
        "id": "25vHyqUmrDeI",
        "outputId": "5b49c0e3-720f-4531-fbc8-f5b4c92be093"
      },
      "id": "25vHyqUmrDeI",
      "execution_count": null,
      "outputs": [
        {
          "output_type": "stream",
          "name": "stdout",
          "text": [
            "% Upvote                  0          1\n",
            "word_count        83.927226  87.710011\n",
            "capital_count     19.252678  14.208349\n",
            "question_mark      0.180273   0.073144\n",
            "exclamation_mark   0.906169   0.937200\n",
            "punctuation       22.482822  19.374954\n"
          ]
        }
      ]
    },
    {
      "cell_type": "markdown",
      "id": "49815fde",
      "metadata": {
        "ExecuteTime": {
          "end_time": "2022-03-14T15:56:34.366469Z",
          "start_time": "2022-03-14T15:56:34.358471Z"
        },
        "id": "49815fde"
      },
      "source": [
        "## División del dataset en datos de entrenamiento y datos de test "
      ]
    },
    {
      "cell_type": "code",
      "execution_count": null,
      "id": "6f26d21e",
      "metadata": {
        "id": "6f26d21e"
      },
      "outputs": [],
      "source": [
        "#Código que realice la división en entrenamiento y test, de acuerdo con la estretgia de evaluación planeada. Describa cuál es.\n",
        "X_train, X_test, y_train, y_test = train_test_split(X_num, y_num, random_state=0)\n",
        "\n"
      ]
    },
    {
      "cell_type": "markdown",
      "id": "6319adad",
      "metadata": {
        "id": "6319adad"
      },
      "source": [
        "## Modelamiento"
      ]
    },
    {
      "cell_type": "code",
      "execution_count": null,
      "id": "d5d2b2c6",
      "metadata": {
        "id": "d5d2b2c6"
      },
      "outputs": [],
      "source": [
        "#Códo del modelo\n",
        "\n",
        "clf_svm = svm.SVC(kernel=\"linear\").fit(X_train, y_train)\n",
        "acc_svm = clf_svm.score(X_test, y_test)\n"
      ]
    },
    {
      "cell_type": "markdown",
      "id": "9c2239f5",
      "metadata": {
        "id": "9c2239f5"
      },
      "source": [
        "## Evaluación del Modelo"
      ]
    },
    {
      "cell_type": "code",
      "execution_count": null,
      "id": "28b14a2f",
      "metadata": {
        "id": "28b14a2f",
        "colab": {
          "base_uri": "https://localhost:8080/"
        },
        "outputId": "4c42d12d-4411-41b2-e654-bed31a31070f"
      },
      "outputs": [
        {
          "output_type": "stream",
          "name": "stdout",
          "text": [
            "SVM accuracy: 0.5745937961595273\n"
          ]
        }
      ],
      "source": [
        "#Test\n",
        "print('SVM accuracy: {}'.format(acc_svm))"
      ]
    },
    {
      "cell_type": "code",
      "source": [
        "df_user = odf.groupby(['UserId', 'ProfileName']).agg({'Score':['count', 'mean']})\n",
        "df_user.columns = df_user.columns.get_level_values(1)\n",
        "df_user.columns = ['Score count', 'Score mean']\n",
        "df_user = df_user.sort_values(by = 'Score count', ascending = False)\n",
        "print(df_user.head(10))"
      ],
      "metadata": {
        "colab": {
          "base_uri": "https://localhost:8080/"
        },
        "id": "YHOkZ7dF06Bu",
        "outputId": "e303b8ce-6ef3-4808-c01f-6102ac2ecba9"
      },
      "id": "YHOkZ7dF06Bu",
      "execution_count": null,
      "outputs": [
        {
          "output_type": "stream",
          "name": "stdout",
          "text": [
            "                                                       Score count  Score mean\n",
            "UserId         ProfileName                                                    \n",
            "A3OXHLG6DIBRW8 C. F. Hill \"CFH\"                                448    4.535714\n",
            "A1YUL9PCJR3JTY O. Brown \"Ms. O. Khannah-Brown\"                 421    4.494062\n",
            "AY12DBB0U420B  Gary Peterson                                   389    4.647815\n",
            "A281NPSIMI1C2R Rebecca of Amazon \"The Rebecca Review\"          365    4.841096\n",
            "A1Z54EM24Y40LL c2                                              256    4.453125\n",
            "A1TMAVN4CEM8U8 Gunner                                          204    4.833333\n",
            "A2MUGFV2TDQ47K Lynrie \"Oh HELL no\"                             201    3.751244\n",
            "A3TVZM3ZIXG8YW christopher hayes                               199    1.000000\n",
            "A3PJZ8TU8FDQ1K Jared Castle                                    178    4.601124\n",
            "AQQLWCMRNDFGI  Steven A. Peterson                              176    3.954545\n"
          ]
        }
      ]
    },
    {
      "cell_type": "code",
      "source": [
        "def plot_user(UserId):\n",
        "    df_1user = odf[odf['UserId'] == UserId]['Score']\n",
        "    df_1user_plot = df_1user.value_counts(sort=False)\n",
        "    ax = df_1user_plot.plot(kind = 'bar', figsize = (15,10), title = 'Score distribution of user {} review'.format(odf[odf['UserId'] == UserId]['ProfileName'].iloc[0]))\n",
        "\n",
        "plot_user('A3OXHLG6DIBRW8')"
      ],
      "metadata": {
        "colab": {
          "base_uri": "https://localhost:8080/",
          "height": 604
        },
        "id": "05Ic1XAf1Anf",
        "outputId": "4917ed2c-0b9f-4159-d1ab-f9b67dd99778"
      },
      "id": "05Ic1XAf1Anf",
      "execution_count": null,
      "outputs": [
        {
          "output_type": "display_data",
          "data": {
            "text/plain": [
              "<Figure size 1080x720 with 1 Axes>"
            ],
            "image/png": "[encoded data removed]"
          },
          "metadata": {
            "needs_background": "light"
          }
        }
      ]
    },
    {
      "cell_type": "code",
      "source": [
        "print(df_user[(df_user['Score mean']<3.5) & (df_user['Score mean']>2.5)].head())\n"
      ],
      "metadata": {
        "colab": {
          "base_uri": "https://localhost:8080/"
        },
        "id": "S2zMFZkf1IUO",
        "outputId": "c43b4392-180b-44f7-87b0-63d970dca1f3"
      },
      "id": "S2zMFZkf1IUO",
      "execution_count": null,
      "outputs": [
        {
          "output_type": "stream",
          "name": "stdout",
          "text": [
            "                                Score count  Score mean\n",
            "UserId         ProfileName                             \n",
            "A35R32TA60XD57 M. Torma                 141    3.460993\n",
            "A2M9D9BDHONV3Y A. Bennett               115    3.269565\n",
            "A2TN9C5E4A0I3F Jimmy                    110    2.727273\n",
            "A2XNJJ9TF70P4J Angie                     85    2.976471\n",
            "AJB5P7GVR0MT8  Harry the Horse           70    3.257143\n"
          ]
        }
      ]
    },
    {
      "cell_type": "markdown",
      "id": "822ff948",
      "metadata": {
        "id": "822ff948"
      },
      "source": [
        "# Interpretación de Resultados"
      ]
    },
    {
      "cell_type": "markdown",
      "source": [
        "el modelo utilizado fue SVM, lamentablemente el dataset fue sobre comentarios y no sobre algun otro tipo de clasificación. Por lo tanto se aplicó análisis de sentimientos y sobre estos resultados se trató de aplicar SVM. Se obtuvo un accuraccy de 57%, lo cual muestra que incluso habiendo un procesamiento de datos este modelo no se acopla al problema ó se necesitan procesos más complejos antes de aplicar algún tipo de modelo"
      ],
      "metadata": {
        "id": "3nXpx4jAytmn"
      },
      "id": "3nXpx4jAytmn"
    },
    {
      "cell_type": "code",
      "source": [
        ""
      ],
      "metadata": {
        "id": "cx7jEBQz1m47"
      },
      "id": "cx7jEBQz1m47",
      "execution_count": null,
      "outputs": []
    }
  ],
  "metadata": {
    "kernelspec": {
      "display_name": "Python 3 (ipykernel)",
      "language": "python",
      "name": "python3"
    },
    "language_info": {
      "codemirror_mode": {
        "name": "ipython",
        "version": 3
      },
      "file_extension": ".py",
      "mimetype": "text/x-python",
      "name": "python",
      "nbconvert_exporter": "python",
      "pygments_lexer": "ipython3",
      "version": "3.9.7"
    },
    "toc": {
      "base_numbering": 1,
      "nav_menu": {},
      "number_sections": true,
      "sideBar": true,
      "skip_h1_title": true,
      "title_cell": "Tabla de Contenido",
      "title_sidebar": "Contenido",
      "toc_cell": false,
      "toc_position": {
        "height": "calc(100% - 180px)",
        "left": "10px",
        "top": "150px",
        "width": "263.591px"
      },
      "toc_section_display": true,
      "toc_window_display": true
    },
    "colab": {
      "name": "ZambranoA-RazaD-PeraltaY-NotebookBase_ProgramaciónDM.ipynb",
      "provenance": [],
      "collapsed_sections": [],
      "include_colab_link": true
    }
  },
  "nbformat": 4,
  "nbformat_minor": 5
}