{
  "nbformat": 4,
  "nbformat_minor": 0,
  "metadata": {
    "colab": {
      "name": "LabNro2_ArbolesDeDesiciones.ipynb",
      "provenance": [],
      "collapsed_sections": [],
      "authorship_tag": "ABX9TyNjlXHgeV2VHm3/da78zAtX",
      "include_colab_link": true
    },
    "kernelspec": {
      "name": "python3",
      "display_name": "Python 3"
    },
    "language_info": {
      "name": "python"
    }
  },
  "cells": [
    {
      "cell_type": "markdown",
      "metadata": {
        "id": "view-in-github",
        "colab_type": "text"
      },
      "source": [
        "<a href=\"https://colab.research.google.com/github/YomarPeralta/Jupyter-Lab/blob/main/LabNro2_ArbolesDeDesiciones.ipynb\" target=\"_parent\"><img src=\"https://colab.research.google.com/assets/colab-badge.svg\" alt=\"Open In Colab\"/></a>"
      ]
    },
    {
      "cell_type": "code",
      "execution_count": 1,
      "metadata": {
        "id": "ANi5sDxSd11F"
      },
      "outputs": [],
      "source": [
        "#Importaciones de las librerias necesarias \n",
        "import pandas\n",
        "from sklearn import tree\n",
        "import pydotplus\n",
        "from sklearn.tree import DecisionTreeClassifier\n",
        "%matplotlib notebook\n",
        "import matplotlib.pyplot as plt\n",
        "import matplotlib.image as pltimg"
      ]
    },
    {
      "cell_type": "code",
      "source": [
        "#Carga y lectura de los datos del dataset con ayuda de Pandas \n",
        "df = pandas.read_csv('air.csv')\n",
        "print(df)"
      ],
      "metadata": {
        "colab": {
          "base_uri": "https://localhost:8080/"
        },
        "id": "ptdko2AAfNxs",
        "outputId": "597c56f2-90d4-4401-f00f-b9830192ed0e"
      },
      "execution_count": 8,
      "outputs": [
        {
          "output_type": "stream",
          "name": "stdout",
          "text": [
            "   locationId    location   city country                        utc  \\\n",
            "0       42643  Cotocollao  Quito      EC  2021-01-01T01:00:00+00:00   \n",
            "1       42642      Centro  Quito      EC  2021-01-01T01:00:00+00:00   \n",
            "2       42642      Centro  Quito      EC  2021-01-01T01:00:00+00:00   \n",
            "3       42645     Guamani  Quito      EC  2021-01-01T01:00:00+00:00   \n",
            "4       42645     Guamani  Quito      EC  2021-01-01T01:00:00+00:00   \n",
            "5       42641   Carapungo  Quito      EC  2021-01-01T01:00:00+00:00   \n",
            "6       42644    El Camal  Quito      EC  2021-01-01T01:00:00+00:00   \n",
            "7       42648     Tumbaco  Quito      EC  2021-01-01T01:00:00+00:00   \n",
            "8       42641   Carapungo  Quito      EC  2021-01-01T01:00:00+00:00   \n",
            "\n",
            "                       local parameter          value     unit  latitude  \\\n",
            "0  2021-01-01T00:00:00-01:00       so2  8.268.575.126      ppm   -11.072   \n",
            "1  2021-01-01T00:00:00-01:00       so2  8.208.348.623      ppm    -2.215   \n",
            "2  2021-01-01T00:00:00-01:00      pm25         33.282  Âµg/mÂ³    -2.215   \n",
            "3  2021-01-01T00:00:00-01:00       so2  2.711.370.971      ppm   -33.428   \n",
            "4  2021-01-01T00:00:00-01:00      pm25         65.787  Âµg/mÂ³   -33.428   \n",
            "5  2021-01-01T00:00:00-01:00      pm10      2.885.354  Âµg/mÂ³    -9.548   \n",
            "6  2021-01-01T00:00:00-01:00      pm25         67.612  Âµg/mÂ³   -25.192   \n",
            "7  2021-01-01T00:00:00-01:00      pm25         10.388  Âµg/mÂ³   -21.484   \n",
            "8  2021-01-01T00:00:00-01:00       so2  8.148.488.716      ppm    -9.548   \n",
            "\n",
            "    longitude  \n",
            "0  -7.849.953  \n",
            "1  -7.851.413  \n",
            "2  -7.851.413  \n",
            "3    -785.534  \n",
            "4    -785.534  \n",
            "5  -7.844.988  \n",
            "6  -7.851.713  \n",
            "7  -7.840.326  \n",
            "8  -7.844.988  \n"
          ]
        }
      ]
    },
    {
      "cell_type": "code",
      "source": [
        "#Cambio de datos por string por datos simples \n",
        "d1 = {'Centro': 0, 'Cotocollao': 1, 'Guamani': 2, 'Carapungo': 3, 'El Camal': 4, 'Tumbaco': 5}\n",
        "df['location'] = df['location'].map(d1)\n",
        "d2 = {'so2': 1, 'pm25': 0, 'pm10':2}\n",
        "df['parameter'] = df['parameter'].map(d2)\n",
        "print(df)"
      ],
      "metadata": {
        "colab": {
          "base_uri": "https://localhost:8080/"
        },
        "id": "Qt4H5NnFk0s7",
        "outputId": "58e44e53-074e-4240-d0ff-41af90a03678"
      },
      "execution_count": 25,
      "outputs": [
        {
          "output_type": "stream",
          "name": "stdout",
          "text": [
            "   locationId  location   city country                        utc  \\\n",
            "0       42643       NaN  Quito      EC  2021-01-01T01:00:00+00:00   \n",
            "1       42642       NaN  Quito      EC  2021-01-01T01:00:00+00:00   \n",
            "2       42642       NaN  Quito      EC  2021-01-01T01:00:00+00:00   \n",
            "3       42645       NaN  Quito      EC  2021-01-01T01:00:00+00:00   \n",
            "4       42645       NaN  Quito      EC  2021-01-01T01:00:00+00:00   \n",
            "5       42641       NaN  Quito      EC  2021-01-01T01:00:00+00:00   \n",
            "6       42644       NaN  Quito      EC  2021-01-01T01:00:00+00:00   \n",
            "7       42648       NaN  Quito      EC  2021-01-01T01:00:00+00:00   \n",
            "8       42641       NaN  Quito      EC  2021-01-01T01:00:00+00:00   \n",
            "\n",
            "                       local  parameter          value     unit  latitude  \\\n",
            "0  2021-01-01T00:00:00-01:00        NaN  8.268.575.126      ppm   -11.072   \n",
            "1  2021-01-01T00:00:00-01:00        NaN  8.208.348.623      ppm    -2.215   \n",
            "2  2021-01-01T00:00:00-01:00        NaN         33.282  Âµg/mÂ³    -2.215   \n",
            "3  2021-01-01T00:00:00-01:00        NaN  2.711.370.971      ppm   -33.428   \n",
            "4  2021-01-01T00:00:00-01:00        NaN         65.787  Âµg/mÂ³   -33.428   \n",
            "5  2021-01-01T00:00:00-01:00        NaN      2.885.354  Âµg/mÂ³    -9.548   \n",
            "6  2021-01-01T00:00:00-01:00        NaN         67.612  Âµg/mÂ³   -25.192   \n",
            "7  2021-01-01T00:00:00-01:00        NaN         10.388  Âµg/mÂ³   -21.484   \n",
            "8  2021-01-01T00:00:00-01:00        NaN  8.148.488.716      ppm    -9.548   \n",
            "\n",
            "    longitude  \n",
            "0  -7.849.953  \n",
            "1  -7.851.413  \n",
            "2  -7.851.413  \n",
            "3    -785.534  \n",
            "4    -785.534  \n",
            "5  -7.844.988  \n",
            "6  -7.851.713  \n",
            "7  -7.840.326  \n",
            "8  -7.844.988  \n"
          ]
        }
      ]
    },
    {
      "cell_type": "code",
      "source": [
        "#. Elegir características, es decir, columnas de las que intentamos predecir. \n",
        "#Se deben elegir las columnas que aportarán más al objetivo del modelo\n",
        "features="
      ],
      "metadata": {
        "id": "t89yswW9qX2A"
      },
      "execution_count": null,
      "outputs": []
    }
  ]
}